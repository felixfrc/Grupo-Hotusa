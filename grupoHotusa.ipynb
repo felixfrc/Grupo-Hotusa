{
 "cells": [
  {
   "cell_type": "markdown",
   "metadata": {},
   "source": [
    "# Prueba Grupo Hotusa"
   ]
  },
  {
   "cell_type": "markdown",
   "metadata": {},
   "source": [
    "##### 1.Representa gráficamente el número de cancelaciones y reservas confirmadas para cada fecha de check in (date_checkin).\n",
    "##### 2.Número de reservas confirmadas y cancelaciones para cada agencia (agengy_id). Selecciona únicamente el top 10 en cuanto a volumen total de reservas.\n",
    "##### 3.Evolución del precio mínimo, precio medio, precio máximo y revenue para cada fecha de check in (date_checkin) (preferiblemente representadas en la misma gráfica superpuestas, revenue puede ir según la escala) (Nótese: revenue = mean_price_per_night * nights) Se puede extraer alguna conclusión al comparar la evolución entre los precios y el revenue. ¿Hay fechas mal vendidas?\n",
    "##### 4.Las reservas entran con una antelación. La antelación se calcula como: date_checkin - date_gen. El objetivo de esta pregunta es observar como afecta la antelación a la cancelación y confirmación de las reservas. ¿Cuándo suelen entrar las reservas? ¿el ratio de cancelación es constante para diferentes antelaciones? (Si es posible agrupa las antelaciones en intervalos: [0,3),[3,7),[7,30),[30,90),[90,120] días)\n",
    "##### 5.Elabora 2 análisis por tu parte: Algunas sugerencias: Diferencias entre precio de venta de reservas canceladas y confirmadas, cómo afecta el número de noches al precio medio de la reserva, ratio de cancelación por origen (origen_id), evolución del precio de venta por mes, qué considerarías outliers..."
   ]
  },
  {
   "cell_type": "code",
   "execution_count": 1,
   "metadata": {},
   "outputs": [],
   "source": [
    "import pandas as pd \n",
    "import matplotlib.pyplot as plt\n",
    "import seaborn as sns"
   ]
  },
  {
   "cell_type": "code",
   "execution_count": 2,
   "metadata": {},
   "outputs": [
    {
     "data": {
      "text/html": [
       "<div>\n",
       "<style scoped>\n",
       "    .dataframe tbody tr th:only-of-type {\n",
       "        vertical-align: middle;\n",
       "    }\n",
       "\n",
       "    .dataframe tbody tr th {\n",
       "        vertical-align: top;\n",
       "    }\n",
       "\n",
       "    .dataframe thead th {\n",
       "        text-align: right;\n",
       "    }\n",
       "</style>\n",
       "<table border=\"1\" class=\"dataframe\">\n",
       "  <thead>\n",
       "    <tr style=\"text-align: right;\">\n",
       "      <th></th>\n",
       "      <th>Unnamed: 0</th>\n",
       "      <th>res_id</th>\n",
       "      <th>date_gen</th>\n",
       "      <th>date_checkin</th>\n",
       "      <th>nights</th>\n",
       "      <th>guests</th>\n",
       "      <th>ori_id</th>\n",
       "      <th>agency_id</th>\n",
       "      <th>mean_price_per_night</th>\n",
       "      <th>status</th>\n",
       "    </tr>\n",
       "  </thead>\n",
       "  <tbody>\n",
       "    <tr>\n",
       "      <th>0</th>\n",
       "      <td>1</td>\n",
       "      <td>12423041</td>\n",
       "      <td>2021-12-17</td>\n",
       "      <td>2022-01-07</td>\n",
       "      <td>2</td>\n",
       "      <td>2</td>\n",
       "      <td>12</td>\n",
       "      <td>Agencia_61</td>\n",
       "      <td>52.50</td>\n",
       "      <td>Cancelled</td>\n",
       "    </tr>\n",
       "    <tr>\n",
       "      <th>1</th>\n",
       "      <td>2</td>\n",
       "      <td>12423225</td>\n",
       "      <td>2021-12-17</td>\n",
       "      <td>2022-01-07</td>\n",
       "      <td>2</td>\n",
       "      <td>2</td>\n",
       "      <td>12</td>\n",
       "      <td>Agencia_61</td>\n",
       "      <td>52.50</td>\n",
       "      <td>Cancelled</td>\n",
       "    </tr>\n",
       "    <tr>\n",
       "      <th>2</th>\n",
       "      <td>3</td>\n",
       "      <td>12423227</td>\n",
       "      <td>2021-12-17</td>\n",
       "      <td>2022-01-09</td>\n",
       "      <td>1</td>\n",
       "      <td>1</td>\n",
       "      <td>12</td>\n",
       "      <td>Agencia_61</td>\n",
       "      <td>50.10</td>\n",
       "      <td>Cancelled</td>\n",
       "    </tr>\n",
       "    <tr>\n",
       "      <th>3</th>\n",
       "      <td>4</td>\n",
       "      <td>12912535</td>\n",
       "      <td>2022-02-18</td>\n",
       "      <td>2022-02-19</td>\n",
       "      <td>1</td>\n",
       "      <td>2</td>\n",
       "      <td>4</td>\n",
       "      <td>Agencia_52</td>\n",
       "      <td>0.00</td>\n",
       "      <td>Confirmed</td>\n",
       "    </tr>\n",
       "    <tr>\n",
       "      <th>4</th>\n",
       "      <td>5</td>\n",
       "      <td>10194056</td>\n",
       "      <td>2020-09-16</td>\n",
       "      <td>2021-01-20</td>\n",
       "      <td>4</td>\n",
       "      <td>3</td>\n",
       "      <td>4</td>\n",
       "      <td>Agencia_10</td>\n",
       "      <td>60.69</td>\n",
       "      <td>Confirmed</td>\n",
       "    </tr>\n",
       "  </tbody>\n",
       "</table>\n",
       "</div>"
      ],
      "text/plain": [
       "   Unnamed: 0    res_id    date_gen date_checkin  nights  guests  ori_id  \\\n",
       "0           1  12423041  2021-12-17   2022-01-07       2       2      12   \n",
       "1           2  12423225  2021-12-17   2022-01-07       2       2      12   \n",
       "2           3  12423227  2021-12-17   2022-01-09       1       1      12   \n",
       "3           4  12912535  2022-02-18   2022-02-19       1       2       4   \n",
       "4           5  10194056  2020-09-16   2021-01-20       4       3       4   \n",
       "\n",
       "    agency_id  mean_price_per_night     status  \n",
       "0  Agencia_61                 52.50  Cancelled  \n",
       "1  Agencia_61                 52.50  Cancelled  \n",
       "2  Agencia_61                 50.10  Cancelled  \n",
       "3  Agencia_52                  0.00  Confirmed  \n",
       "4  Agencia_10                 60.69  Confirmed  "
      ]
     },
     "execution_count": 2,
     "metadata": {},
     "output_type": "execute_result"
    }
   ],
   "source": [
    "file_path = \"hotusa_analysis.csv\"\n",
    "\n",
    "# Lee el archivo CSV directamente en un DataFrame llamado \"df\"\n",
    "df = pd.read_csv(file_path)\n",
    "\n",
    "# Imprime el DataFrame\n",
    "df.head(5)\n"
   ]
  },
  {
   "cell_type": "markdown",
   "metadata": {},
   "source": [
    "### 1.Representa gráficamente el número de cancelaciones y reservas confirmadas para cada fecha de check in (date_checkin)."
   ]
  },
  {
   "cell_type": "code",
   "execution_count": 3,
   "metadata": {},
   "outputs": [
    {
     "data": {
      "image/png": "[encoded data removed]",
      "text/plain": [
       "<Figure size 1008x576 with 1 Axes>"
      ]
     },
     "metadata": {
      "needs_background": "light"
     },
     "output_type": "display_data"
    }
   ],
   "source": [
    "# Filtrar solo las reservas confirmadas y canceladas\n",
    "reservas_confirmadas = df[df['status'] == 'Confirmed']\n",
    "reservas_canceladas = df[df['status'] == 'Cancelled']\n",
    "\n",
    "# Agrupar por fecha de check-in y contar el número de reservas confirmadas y canceladas\n",
    "confirmadas_por_fecha = reservas_confirmadas.groupby('date_checkin').size().reset_index(name='confirmadas')\n",
    "canceladas_por_fecha = reservas_canceladas.groupby('date_checkin').size().reset_index(name='canceladas')\n",
    "\n",
    "# Combinar los datos en un solo DataFrame\n",
    "datos_por_fecha = pd.merge(confirmadas_por_fecha, canceladas_por_fecha, on='date_checkin', how='outer').fillna(0)\n",
    "\n",
    "# Ordenar por fecha de check-in\n",
    "datos_por_fecha = datos_por_fecha.sort_values(by='date_checkin')\n",
    "\n",
    "# Agregar una columna para el mes\n",
    "datos_por_fecha['date_checkin'] = pd.to_datetime(datos_por_fecha['date_checkin'])\n",
    "datos_por_fecha['month'] = datos_por_fecha['date_checkin'].dt.to_period('M')\n",
    "\n",
    "# Crear el gráfico\n",
    "plt.figure(figsize=(14, 8))\n",
    "sns.barplot(x='month', y='canceladas', data=datos_por_fecha, color='red', label='Canceladas', errwidth=0)\n",
    "sns.barplot(x='month', y='confirmadas', data=datos_por_fecha, color='green', label='Confirmadas', errwidth=0)\n",
    "plt.xticks(rotation=40)\n",
    "plt.xlabel('Mes')\n",
    "plt.yticks(range(0, int(datos_por_fecha[['canceladas', 'confirmadas']].max().max()) - 60, 5))\n",
    "plt.ylabel('Nº de Reservas')\n",
    "plt.title('Reservas Confirmadas y Canceladas por Mes')\n",
    "plt.legend()\n",
    "plt.show()"
   ]
  },
  {
   "cell_type": "markdown",
   "metadata": {},
   "source": [
    "##### En esta gráfica "
   ]
  },
  {
   "cell_type": "markdown",
   "metadata": {},
   "source": [
    "### 2.Número de reservas confirmadas y cancelaciones para cada agencia (agengy_id). Selecciona únicamente el top 10 en cuanto a volumen total de reservas."
   ]
  },
  {
   "cell_type": "code",
   "execution_count": 20,
   "metadata": {},
   "outputs": [
    {
     "data": {
      "text/html": [
       "<div>\n",
       "<style scoped>\n",
       "    .dataframe tbody tr th:only-of-type {\n",
       "        vertical-align: middle;\n",
       "    }\n",
       "\n",
       "    .dataframe tbody tr th {\n",
       "        vertical-align: top;\n",
       "    }\n",
       "\n",
       "    .dataframe thead th {\n",
       "        text-align: right;\n",
       "    }\n",
       "</style>\n",
       "<table border=\"1\" class=\"dataframe\">\n",
       "  <thead>\n",
       "    <tr style=\"text-align: right;\">\n",
       "      <th></th>\n",
       "      <th>agency_id</th>\n",
       "      <th>count_confirmadas</th>\n",
       "      <th>count_canceladas</th>\n",
       "      <th>total_reservas</th>\n",
       "    </tr>\n",
       "  </thead>\n",
       "  <tbody>\n",
       "    <tr>\n",
       "      <th>0</th>\n",
       "      <td>Agencia_1</td>\n",
       "      <td>9633</td>\n",
       "      <td>17010</td>\n",
       "      <td>26643</td>\n",
       "    </tr>\n",
       "    <tr>\n",
       "      <th>8</th>\n",
       "      <td>Agencia_2</td>\n",
       "      <td>1888</td>\n",
       "      <td>8710</td>\n",
       "      <td>10598</td>\n",
       "    </tr>\n",
       "    <tr>\n",
       "      <th>14</th>\n",
       "      <td>Agencia_4</td>\n",
       "      <td>547</td>\n",
       "      <td>4568</td>\n",
       "      <td>5115</td>\n",
       "    </tr>\n",
       "    <tr>\n",
       "      <th>17</th>\n",
       "      <td>Agencia_5</td>\n",
       "      <td>637</td>\n",
       "      <td>2439</td>\n",
       "      <td>3076</td>\n",
       "    </tr>\n",
       "    <tr>\n",
       "      <th>20</th>\n",
       "      <td>Agencia_6</td>\n",
       "      <td>858</td>\n",
       "      <td>1966</td>\n",
       "      <td>2824</td>\n",
       "    </tr>\n",
       "    <tr>\n",
       "      <th>3</th>\n",
       "      <td>Agencia_12</td>\n",
       "      <td>490</td>\n",
       "      <td>1535</td>\n",
       "      <td>2025</td>\n",
       "    </tr>\n",
       "    <tr>\n",
       "      <th>11</th>\n",
       "      <td>Agencia_3</td>\n",
       "      <td>361</td>\n",
       "      <td>1030</td>\n",
       "      <td>1391</td>\n",
       "    </tr>\n",
       "    <tr>\n",
       "      <th>23</th>\n",
       "      <td>Agencia_8</td>\n",
       "      <td>126</td>\n",
       "      <td>502</td>\n",
       "      <td>628</td>\n",
       "    </tr>\n",
       "    <tr>\n",
       "      <th>22</th>\n",
       "      <td>Agencia_7</td>\n",
       "      <td>36</td>\n",
       "      <td>241</td>\n",
       "      <td>277</td>\n",
       "    </tr>\n",
       "    <tr>\n",
       "      <th>1</th>\n",
       "      <td>Agencia_10</td>\n",
       "      <td>122</td>\n",
       "      <td>95</td>\n",
       "      <td>217</td>\n",
       "    </tr>\n",
       "  </tbody>\n",
       "</table>\n",
       "</div>"
      ],
      "text/plain": [
       "     agency_id  count_confirmadas  count_canceladas  total_reservas\n",
       "0    Agencia_1               9633             17010           26643\n",
       "8    Agencia_2               1888              8710           10598\n",
       "14   Agencia_4                547              4568            5115\n",
       "17   Agencia_5                637              2439            3076\n",
       "20   Agencia_6                858              1966            2824\n",
       "3   Agencia_12                490              1535            2025\n",
       "11   Agencia_3                361              1030            1391\n",
       "23   Agencia_8                126               502             628\n",
       "22   Agencia_7                 36               241             277\n",
       "1   Agencia_10                122                95             217"
      ]
     },
     "execution_count": 20,
     "metadata": {},
     "output_type": "execute_result"
    }
   ],
   "source": [
    "# Agrupar por agencia y estado de la reserva, y contar el número de reservas\n",
    "reservas_por_agencia = df.groupby(['agency_id', 'status']).size().reset_index(name='count')\n",
    "\n",
    "# Filtrar solo las reservas confirmadas y canceladas\n",
    "reservas_confirmadas = reservas_por_agencia[reservas_por_agencia['status'] == 'Confirmed']\n",
    "reservas_canceladas = reservas_por_agencia[reservas_por_agencia['status'] == 'Cancelled']\n",
    "\n",
    "# Sumar el número total de reservas (confirmadas y canceladas) por agencia\n",
    "total_reservas_por_agencia = pd.merge(reservas_confirmadas, reservas_canceladas, on='agency_id', suffixes=('_confirm', '_cancel'))\n",
    "\n",
    "# Calcular el total de reservas por agencia\n",
    "total_reservas_por_agencia['total_reservas'] = total_reservas_por_agencia['count_confirmadas'] + total_reservas_por_agencia['count_canceladas']\n",
    "\n",
    "# Seleccionar el top 10 en términos de volumen total de reservas\n",
    "top_10_agencias = total_reservas_por_agencia.sort_values(by='total_reservas', ascending=False).head(10)\n",
    "top_10_agencias = top_10_agencias.drop(['status_confirmadas', 'status_canceladas'], axis=1)\n",
    "\n",
    "# Mostrar el resultado\n",
    "top_10_agencias"
   ]
  },
  {
   "cell_type": "markdown",
   "metadata": {},
   "source": [
    "#### Las  "
   ]
  },
  {
   "cell_type": "markdown",
   "metadata": {},
   "source": [
    "### 3.Evolución del precio mínimo, precio medio, precio máximo y revenue para cada fecha de check in (date_checkin) (preferiblemente representadas en la misma gráfica superpuestas, revenue puede ir según la escala) (Nótese: revenue = mean_price_per_night * nights)"
   ]
  },
  {
   "cell_type": "code",
   "execution_count": 6,
   "metadata": {},
   "outputs": [
    {
     "data": {
      "text/html": [
       "<div>\n",
       "<style scoped>\n",
       "    .dataframe tbody tr th:only-of-type {\n",
       "        vertical-align: middle;\n",
       "    }\n",
       "\n",
       "    .dataframe tbody tr th {\n",
       "        vertical-align: top;\n",
       "    }\n",
       "\n",
       "    .dataframe thead th {\n",
       "        text-align: right;\n",
       "    }\n",
       "</style>\n",
       "<table border=\"1\" class=\"dataframe\">\n",
       "  <thead>\n",
       "    <tr style=\"text-align: right;\">\n",
       "      <th></th>\n",
       "      <th>date_checkin</th>\n",
       "      <th>revenue</th>\n",
       "      <th>precio_max</th>\n",
       "      <th>precio_min</th>\n",
       "    </tr>\n",
       "  </thead>\n",
       "  <tbody>\n",
       "    <tr>\n",
       "      <th>0</th>\n",
       "      <td>2022-01-07</td>\n",
       "      <td>105.00</td>\n",
       "      <td>729.73</td>\n",
       "      <td>29.99</td>\n",
       "    </tr>\n",
       "    <tr>\n",
       "      <th>1</th>\n",
       "      <td>2022-01-07</td>\n",
       "      <td>105.00</td>\n",
       "      <td>729.73</td>\n",
       "      <td>29.99</td>\n",
       "    </tr>\n",
       "    <tr>\n",
       "      <th>2</th>\n",
       "      <td>2022-01-09</td>\n",
       "      <td>50.10</td>\n",
       "      <td>1125.19</td>\n",
       "      <td>22.50</td>\n",
       "    </tr>\n",
       "    <tr>\n",
       "      <th>3</th>\n",
       "      <td>2022-02-19</td>\n",
       "      <td>0.00</td>\n",
       "      <td>1145.88</td>\n",
       "      <td>0.00</td>\n",
       "    </tr>\n",
       "    <tr>\n",
       "      <th>4</th>\n",
       "      <td>2021-01-20</td>\n",
       "      <td>242.76</td>\n",
       "      <td>475.15</td>\n",
       "      <td>24.82</td>\n",
       "    </tr>\n",
       "    <tr>\n",
       "      <th>5</th>\n",
       "      <td>2021-02-26</td>\n",
       "      <td>214.20</td>\n",
       "      <td>243.95</td>\n",
       "      <td>0.00</td>\n",
       "    </tr>\n",
       "    <tr>\n",
       "      <th>6</th>\n",
       "      <td>2021-02-26</td>\n",
       "      <td>214.20</td>\n",
       "      <td>243.95</td>\n",
       "      <td>0.00</td>\n",
       "    </tr>\n",
       "    <tr>\n",
       "      <th>7</th>\n",
       "      <td>2021-02-26</td>\n",
       "      <td>124.41</td>\n",
       "      <td>243.95</td>\n",
       "      <td>0.00</td>\n",
       "    </tr>\n",
       "    <tr>\n",
       "      <th>8</th>\n",
       "      <td>2021-02-26</td>\n",
       "      <td>214.20</td>\n",
       "      <td>243.95</td>\n",
       "      <td>0.00</td>\n",
       "    </tr>\n",
       "    <tr>\n",
       "      <th>9</th>\n",
       "      <td>2021-02-26</td>\n",
       "      <td>214.20</td>\n",
       "      <td>243.95</td>\n",
       "      <td>0.00</td>\n",
       "    </tr>\n",
       "  </tbody>\n",
       "</table>\n",
       "</div>"
      ],
      "text/plain": [
       "  date_checkin  revenue  precio_max  precio_min\n",
       "0   2022-01-07   105.00      729.73       29.99\n",
       "1   2022-01-07   105.00      729.73       29.99\n",
       "2   2022-01-09    50.10     1125.19       22.50\n",
       "3   2022-02-19     0.00     1145.88        0.00\n",
       "4   2021-01-20   242.76      475.15       24.82\n",
       "5   2021-02-26   214.20      243.95        0.00\n",
       "6   2021-02-26   214.20      243.95        0.00\n",
       "7   2021-02-26   124.41      243.95        0.00\n",
       "8   2021-02-26   214.20      243.95        0.00\n",
       "9   2021-02-26   214.20      243.95        0.00"
      ]
     },
     "execution_count": 6,
     "metadata": {},
     "output_type": "execute_result"
    }
   ],
   "source": [
    "# Calcular la columna 'revenue'\n",
    "df['revenue'] = df['mean_price_per_night'] * df['nights']\n",
    "\n",
    "# Crear el DataFrame preciototal_con_reserva\n",
    "preciototal_con_reserva = df[['date_checkin', 'revenue']].copy()\n",
    "\n",
    "# Calcular el máximo y mínimo de revenue por 'date_checkin'\n",
    "preciototal_con_reserva['precio_max'] = df.groupby('date_checkin')['revenue'].transform('max')\n",
    "preciototal_con_reserva['precio_min'] = df.groupby('date_checkin')['revenue'].transform('min')\n",
    "\n",
    "# Mostrar las primeras 10 filas del resultado\n",
    "preciototal_con_reserva.head(10)\n"
   ]
  },
  {
   "cell_type": "code",
   "execution_count": 7,
   "metadata": {},
   "outputs": [
    {
     "name": "stdout",
     "output_type": "stream",
     "text": [
      "     date_checkin  precio_max  precio_min  precio_medio  sum_revenue\n",
      "1692   2021-01-01      600.87       33.26         33.28      8355.33\n",
      "1911   2021-01-02      264.00        0.00         48.56      7361.92\n",
      "1407   2021-01-03      453.09        0.00         58.50      4749.34\n",
      "1664   2021-01-04      311.92        0.00         44.10      3393.98\n",
      "1571   2021-01-05       89.22       17.10         35.10      2072.79\n"
     ]
    }
   ],
   "source": [
    "# Calcular la columna 'revenue'\n",
    "df['revenue'] = df['mean_price_per_night'] * df['nights']\n",
    "\n",
    "# Crear el DataFrame preciototal_con_reserva\n",
    "preciototal_con_reserva = df[['date_checkin', 'revenue']].copy()\n",
    "\n",
    "# Calcular el máximo y mínimo de revenue por 'date_checkin'\n",
    "preciototal_con_reserva['precio_max'] = df.groupby('date_checkin')['revenue'].transform('max')\n",
    "preciototal_con_reserva['precio_min'] = df.groupby('date_checkin')['revenue'].transform('min')\n",
    "preciototal_con_reserva['precio_medio'] = df['mean_price_per_night']\n",
    "\n",
    "# Calcular la suma de revenue por 'date_checkin'\n",
    "sum_revenue_by_date = df.groupby('date_checkin')['revenue'].sum().reset_index(name='sum_revenue')\n",
    "#print(sum_revenue_by_date)\n",
    "\n",
    "# Fusionar los resultados con preciototal_con_reserva\n",
    "preciototal_con_reserva = pd.merge(preciototal_con_reserva, sum_revenue_by_date, on='date_checkin', how='left')\n",
    "preciototal_con_reserva = preciototal_con_reserva.sort_values(by='date_checkin')\n",
    "preciototal_con_reserva = preciototal_con_reserva.drop_duplicates(subset='date_checkin', keep='first')\n",
    "preciototal_con_reserva = preciototal_con_reserva.drop('revenue', axis=1)\n",
    "\n",
    "# Mostrar las primeras 10 filas del resultado\n",
    "print(preciototal_con_reserva.head(5))\n"
   ]
  },
  {
   "cell_type": "code",
   "execution_count": 11,
   "metadata": {},
   "outputs": [
    {
     "data": {
      "image/png": "[encoded data removed]",
      "text/plain": [
       "<Figure size 1296x720 with 1 Axes>"
      ]
     },
     "metadata": {
      "needs_background": "light"
     },
     "output_type": "display_data"
    }
   ],
   "source": [
    "preciototal_con_reserva['date_checkin'] = pd.to_datetime(preciototal_con_reserva['date_checkin'])\n",
    "preciototal_con_reserva['month'] = preciototal_con_reserva['date_checkin'].dt.to_period('M')\n",
    "\n",
    "preciototal_con_reserva['date_checkin'] = pd.to_datetime(preciototal_con_reserva['date_checkin'])\n",
    "preciototal_con_reserva = preciototal_con_reserva.sort_values(by='date_checkin')\n",
    "\n",
    "plt.figure(figsize=(18, 10))\n",
    "plt.plot(preciototal_con_reserva['date_checkin'], preciototal_con_reserva['precio_medio'], marker='o', linestyle='--', color='red', label='Precio Medio')\n",
    "plt.plot(preciototal_con_reserva['date_checkin'], preciototal_con_reserva['precio_max'], marker='o', linestyle='--', color='blue', label='Precio Máximo')\n",
    "plt.plot(preciototal_con_reserva['date_checkin'], preciototal_con_reserva['precio_min'], marker='o', linestyle='--', color='green', label='Precio Mínimo')\n",
    "\n",
    "plt.bar(preciototal_con_reserva['date_checkin'], preciototal_con_reserva['sum_revenue'], color='orange', label='Ingresos')\n",
    "\n",
    "plt.xlabel('Fecha de Check-In')\n",
    "plt.ylabel('Precio')\n",
    "plt.title('Precio Medio con Rango')\n",
    "plt.legend()\n",
    "plt.grid(True)\n",
    "plt.show()"
   ]
  },
  {
   "cell_type": "markdown",
   "metadata": {},
   "source": [
    "### Las reservas entran con una antelación. La antelación se calcula como: date_checkin - date_gen. El objetivo de esta pregunta es observar como afecta la antelación a la cancelación y confirmación de las reservas. ¿Cuándo suelen entrar las reservas? ¿el ratio de cancelación es constante para diferentes antelaciones? (Si es posible agrupa las antelaciones en intervalos: [0,3),[3,7),[7,30),[30,90),[90,120] días)"
   ]
  },
  {
   "cell_type": "code",
   "execution_count": 161,
   "metadata": {},
   "outputs": [
    {
     "name": "stdout",
     "output_type": "stream",
     "text": [
      "Anticipación y Ratio de Cancelación:\n",
      "status                 Cancelled  Confirmed  Cancellation_ratio_%\n",
      "anticipation_interval                                            \n",
      "[0,3)                      16071       2212             87.901329\n",
      "[3,7)                       7377       1920             79.348177\n",
      "[7,30)                     10398       5177             66.760835\n",
      "[30,90)                     3798       3426             52.574751\n",
      "[90,120]                     376        548             40.692641\n"
     ]
    }
   ],
   "source": [
    "# Convertir las columnas 'date_gen' y 'date_checkin' a datetime\n",
    "df['date_gen'] = pd.to_datetime(df['date_gen'])\n",
    "df['date_checkin'] = pd.to_datetime(df['date_checkin'])\n",
    "\n",
    "# Calcular la antelación\n",
    "df['anticipation'] = (df['date_checkin'] - df['date_gen']).dt.days\n",
    "\n",
    "# Crear intervalos de antelación\n",
    "bins = [0, 3, 7, 30, 90, 120]\n",
    "labels = ['[0,3)', '[3,7)', '[7,30)', '[30,90)', '[90,120]']\n",
    "df['anticipation_interval'] = pd.cut(df['anticipation'], bins=bins, labels=labels, right=False)\n",
    "\n",
    "# Calcular el número de reservas y cancelaciones por intervalo de antelación\n",
    "counts = df.groupby('anticipation_interval')['status'].value_counts().unstack().fillna(0)\n",
    "\n",
    "# Calcular el ratio de cancelación\n",
    "counts['Cancellation_ratio_%'] = (counts['Cancelled'] / (counts['Cancelled'] + counts['Confirmed'])) * 100\n",
    "\n",
    "# Mostrar los resultados\n",
    "print(\"Anticipación y Ratio de Cancelación:\")\n",
    "print(counts[['Cancelled', 'Confirmed', 'Cancellation_ratio_%']])\n"
   ]
  },
  {
   "cell_type": "markdown",
   "metadata": {},
   "source": []
  },
  {
   "cell_type": "markdown",
   "metadata": {},
   "source": [
    "### Elabora 2 análisis por tu parte:\n",
    "### Algunas sugerencias: Diferencias entre precio de venta de reservas canceladas y confirmadas, cómo afecta el número de noches al precio medio de la reserva, ratio de cancelación por origen (origen_id), evolución del precio de venta por mes, qué considerarías outliers..."
   ]
  },
  {
   "cell_type": "code",
   "execution_count": 168,
   "metadata": {},
   "outputs": [
    {
     "name": "stdout",
     "output_type": "stream",
     "text": [
      "Ratio de Cancelación por Origen y Noches Reservadas:\n",
      "status                 Cancelled  Confirmed  cancellation_ratio\n",
      "ori_id night_interval                                          \n",
      "4      [1,3)                3336        461           87.858836\n",
      "       [3,6)                 616        173           78.073511\n",
      "       [6,10)                 71         22           76.344086\n",
      "       10 o +                 27          5           84.375000\n",
      "7      [1,3)                   4          0          100.000000\n",
      "       [3,6)                   2          0          100.000000\n",
      "       [6,10)                  2          0          100.000000\n",
      "       10 o +                  1          0          100.000000\n",
      "9      [1,3)                 138         73           65.402844\n",
      "       [3,6)                 210         53           79.847909\n",
      "       [6,10)                 41          7           85.416667\n",
      "       10 o +                  1          4           20.000000\n",
      "10     [1,3)                 639          7           98.916409\n",
      "       [3,6)                  50          4           92.592593\n",
      "       [6,10)                  8          0          100.000000\n",
      "       10 o +                  5          0          100.000000\n",
      "11     [1,3)                6160       1099           84.860174\n",
      "       [3,6)                2236        643           77.665856\n",
      "       [6,10)                294        129           69.503546\n",
      "       10 o +                 31         16           65.957447\n",
      "12     [1,3)                 222         32           87.401575\n",
      "       [3,6)                  55         19           74.324324\n",
      "       [6,10)                  7          2           77.777778\n",
      "       10 o +                  0          0                 NaN\n",
      "13     [1,3)                2807       1012           73.500916\n",
      "       [3,6)                1199        486           71.157270\n",
      "       [6,10)                134         60           69.072165\n",
      "       10 o +                 15         18           45.454545\n",
      "14     [1,3)               14785       6581           69.198727\n",
      "       [3,6)                4825       3053           61.246509\n",
      "       [6,10)                534        634           45.719178\n",
      "       10 o +                 65        199           24.621212\n"
     ]
    }
   ],
   "source": [
    "# Crear intervalos de noches reservadas\n",
    "night_bins = [1, 3, 6, 10, 100]\n",
    "night_labels = ['[1,3)', '[3,6)', '[6,10)', '10 o +']\n",
    "\n",
    "df['night_interval'] = pd.cut(df['nights'], bins=night_bins, labels=night_labels, right=False)\n",
    "\n",
    "# Calcular el número de reservas y cancelaciones por origen y por intervalo de noches reservadas\n",
    "counts = df.groupby(['ori_id', 'night_interval', 'status']).size().unstack(fill_value=0)\n",
    "\n",
    "# Calcular el ratio de cancelación\n",
    "counts['cancellation_ratio'] = (counts['Cancelled'] / (counts['Cancelled'] + counts['Confirmed'])) * 100\n",
    "\n",
    "# Mostrar los resultados\n",
    "print(\"Ratio de Cancelación por Origen y Noches Reservadas:\")\n",
    "print(counts[['Cancelled', 'Confirmed', 'cancellation_ratio']])\n"
   ]
  },
  {
   "cell_type": "code",
   "execution_count": 169,
   "metadata": {},
   "outputs": [
    {
     "name": "stdout",
     "output_type": "stream",
     "text": [
      "Top 10 por Ratio de Cancelación:\n",
      "status                 Cancelled  Confirmed  cancellation_ratio\n",
      "ori_id night_interval                                          \n",
      "10     10 o +                  5          0          100.000000\n",
      "       [6,10)                  8          0          100.000000\n",
      "7      [1,3)                   4          0          100.000000\n",
      "       [3,6)                   2          0          100.000000\n",
      "       [6,10)                  2          0          100.000000\n",
      "       10 o +                  1          0          100.000000\n",
      "10     [1,3)                 639          7           98.916409\n",
      "       [3,6)                  50          4           92.592593\n",
      "4      [1,3)                3336        461           87.858836\n",
      "12     [1,3)                 222         32           87.401575\n"
     ]
    }
   ],
   "source": [
    "# Ordenar el DataFrame por el ratio de cancelación en orden descendente\n",
    "top_cancelation_ratio = counts.sort_values(by='cancellation_ratio', ascending=False)\n",
    "\n",
    "# Seleccionar las primeras 10 filas (los 10 principales)\n",
    "top_10_cancelation_ratio = top_cancelation_ratio.head(10)\n",
    "\n",
    "# Mostrar el resumen\n",
    "print(\"Top 10 por Ratio de Cancelación:\")\n",
    "print(top_10_cancelation_ratio[['Cancelled', 'Confirmed', 'cancellation_ratio']])"
   ]
  },
  {
   "cell_type": "code",
   "execution_count": 181,
   "metadata": {},
   "outputs": [
    {
     "name": "stdout",
     "output_type": "stream",
     "text": [
      "DataFrame por Mes con el Resumen:\n",
      "     month  reservations_count  confirmed_sum  cancelled_sum  nights_sum  \\\n",
      "0  2021-04                2293            590           1703        3684   \n",
      "1  2021-05                2740            765           1975        5260   \n",
      "2  2021-06                3750            990           2760        7456   \n",
      "3  2021-07                4183           1043           3140        9905   \n",
      "4  2021-08                4006            920           3086       10911   \n",
      "5  2021-09                3390            758           2632        8222   \n",
      "6  2021-10                2885            696           2189        6508   \n",
      "7  2022-04                3705            992           2713        9351   \n",
      "8  2022-05                2545            736           1809        6835   \n",
      "\n",
      "   mean_price_per_night_sum  \n",
      "0                 160040.20  \n",
      "1                 298475.05  \n",
      "2                 445469.71  \n",
      "3                 705369.39  \n",
      "4                 982124.13  \n",
      "5                 622016.74  \n",
      "6                 538475.00  \n",
      "7                 941869.05  \n",
      "8                 817024.36  \n"
     ]
    }
   ],
   "source": [
    "# Convertir las columnas 'date_checkin' a datetime\n",
    "df['date_checkin'] = pd.to_datetime(df['date_checkin'])\n",
    "\n",
    "# Filtrar las reservas dentro de la época de temporada alta\n",
    "seasonal_df = df[(df['date_checkin'].dt.month >= 4) & (df['date_checkin'].dt.month <= 10)]\n",
    "\n",
    "# Agrupar por mes y realizar cálculos sin usar lambda ni bucles\n",
    "monthly_df = pd.DataFrame({\n",
    "    'reservations_count': seasonal_df.groupby(seasonal_df['date_checkin'].dt.to_period(\"M\"))['res_id'].count(),\n",
    "    'confirmed_sum': seasonal_df[seasonal_df['status'] == 'Confirmed'].groupby(seasonal_df['date_checkin'].dt.to_period(\"M\"))['res_id'].count(),\n",
    "    'cancelled_sum': seasonal_df[seasonal_df['status'] == 'Cancelled'].groupby(seasonal_df['date_checkin'].dt.to_period(\"M\"))['res_id'].count(),\n",
    "    'nights_sum': seasonal_df.groupby(seasonal_df['date_checkin'].dt.to_period(\"M\"))['nights'].sum(),\n",
    "    'mean_price_per_night_sum': (seasonal_df['mean_price_per_night'] * seasonal_df['nights']).groupby(seasonal_df['date_checkin'].dt.to_period(\"M\")).sum()\n",
    "}).reset_index()\n",
    "\n",
    "# Renombrar la columna 'date_checkin' a 'month'\n",
    "monthly_df = monthly_df.rename(columns={'date_checkin': 'month'})\n",
    "\n",
    "# Mostrar el DataFrame\n",
    "print(\"DataFrame por Mes con el Resumen:\")\n",
    "print(monthly_df)\n"
   ]
  },
  {
   "cell_type": "code",
   "execution_count": null,
   "metadata": {},
   "outputs": [],
   "source": []
  }
 ],
 "metadata": {
  "kernelspec": {
   "display_name": "base",
   "language": "python",
   "name": "python3"
  },
  "language_info": {
   "codemirror_mode": {
    "name": "ipython",
    "version": 3
   },
   "file_extension": ".py",
   "mimetype": "text/x-python",
   "name": "python",
   "nbconvert_exporter": "python",
   "pygments_lexer": "ipython3",
   "version": "3.8.8"
  }
 },
 "nbformat": 4,
 "nbformat_minor": 2
}
